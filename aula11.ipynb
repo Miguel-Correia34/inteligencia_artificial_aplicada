{
 "cells": [
  {
   "cell_type": "code",
   "execution_count": 1,
   "id": "06a53171-7ac8-4891-a5a5-f80825ae75cc",
   "metadata": {},
   "outputs": [],
   "source": [
    "import numpy as np"
   ]
  },
  {
   "cell_type": "code",
   "execution_count": 5,
   "id": "c66e7640-8c4b-4e19-874a-3f317dab5682",
   "metadata": {},
   "outputs": [],
   "source": [
    "def forward_algorithm(Ro, T, E, sequence):\n",
    "    N = len(Ro)\n",
    "    T_obs = len(sequence)\n",
    "\n",
    "    alpha = [[0]*N for _ in range(T_obs)]#np.zeros((T_obs, N))\n",
    "    for i in range(N):\n",
    "        alpha[0][i] = Ro[i] * E[i][sequence[0]]\n",
    "\n",
    "    for t in range(1, T_obs):\n",
    "        for j in range(N):\n",
    "            sum_alpha = 0\n",
    "            for i in range(N):\n",
    "                sum_alpha += alpha[t-1][i] * T[i][j]\n",
    "            alpha[t][j] = sum_alpha * E[j][sequence[t]]\n",
    "            \n",
    "    prob = sum(alpha[T_obs - 1])\n",
    "    return alpha, prob"
   ]
  },
  {
   "cell_type": "code",
   "execution_count": 6,
   "id": "475cd221-9bda-4724-ab3d-d711b8aa4886",
   "metadata": {},
   "outputs": [
    {
     "name": "stdout",
     "output_type": "stream",
     "text": [
      "Alpha matrix:\n",
      "[[np.float64(0.225), np.float64(0.15000000000000002)], [np.float64(0.021750000000000005), np.float64(0.12600000000000003)], [np.float64(0.05906250000000002), np.float64(0.016425000000000006)]]\n",
      "Probability of the observation sequence: 0.07548750000000003\n"
     ]
    }
   ],
   "source": [
    "# Example Usage\n",
    "if __name__ == \"__main__\":\n",
    "    # Example parameters\n",
    "    Ro = np.array([0.25, 0.75])  # Initial probabilities\n",
    "    T = np.array([[0.7, 0.3],  # Transition matrix\n",
    "                  [0.4, 0.6]])\n",
    "    E = np.array([[0.9, 0.1],  # Emission matrix\n",
    "                  [0.2, 0.8]])\n",
    "    sequence = [0, 1, 0]  # Sequence of observed symbols (indices)\n",
    "\n",
    "    alpha, prob = forward_algorithm(Ro, T, E, sequence)\n",
    "    print(\"Alpha matrix:\")\n",
    "    print(alpha)\n",
    "    print(\"Probability of the observation sequence:\", prob)\n"
   ]
  },
  {
   "cell_type": "code",
   "execution_count": 7,
   "id": "764ecf8f-372f-4574-88f1-21d35512c6bb",
   "metadata": {},
   "outputs": [],
   "source": [
    "def forward_algorithm_pseudo(Ro, T, E, sequence):\n",
    "    \"\"\"\n",
    "    Implements the forward algorithm based on the provided pseudo-code.\n",
    "\n",
    "    Parameters:\n",
    "    - Ro: Initial probability distribution (list of size N, where N is the number of states).\n",
    "    - T: Transition matrix (list of lists, NxN, where N is the number of states).\n",
    "    - E: Emission matrix (list of lists, NxM, where N is the number of states and M is the number of emission symbols).\n",
    "    - sequence: Sequence of observations (list of symbols, e.g., ['u', 'other']).\n",
    "\n",
    "    Returns:\n",
    "    - P_Rt_plus_1: The final normalized state probabilities.\n",
    "    \"\"\"\n",
    "    # Initialize P(Rt | u1:t) with the initial probabilities\n",
    "    P_Rt_given_u1_t = Ro[:]\n",
    "\n",
    "    # Iterate over each symbol in the sequence\n",
    "    for s in sequence:\n",
    "        # Start with the transition probabilities P(Rt+1 | u1:t)\n",
    "        P_Rt_plus_1_given_u1_t = [0] * len(Ro)\n",
    "        for j in range(len(Ro)):  # For each next state\n",
    "            for i in range(len(Ro)):  # For each current state\n",
    "                P_Rt_plus_1_given_u1_t[j] += P_Rt_given_u1_t[i] * T[i][j]\n",
    "\n",
    "        # Update the emission probabilities based on the current symbol\n",
    "        if s == 'u':\n",
    "            P_ui_given_Rt = [E[i][0] for i in range(len(Ro))]\n",
    "        else:\n",
    "            P_ui_given_Rt = [E[i][1] for i in range(len(Ro))]\n",
    "\n",
    "        # Multiply by the emission probabilities\n",
    "        for j in range(len(Ro)):\n",
    "            P_Rt_plus_1_given_u1_t[j] *= P_ui_given_Rt[j]\n",
    "\n",
    "        # Normalize the probabilities (||P(Rt+1|u1:t+1)||1)\n",
    "        norm_factor = sum(P_Rt_plus_1_given_u1_t)\n",
    "        P_Rt_plus_1_given_u1_t = [p / norm_factor for p in P_Rt_plus_1_given_u1_t]\n",
    "\n",
    "        # Update P(Rt|u1:t) for the next iteration\n",
    "        P_Rt_given_u1_t = P_Rt_plus_1_given_u1_t\n",
    "\n",
    "    # Return the final normalized probabilities\n",
    "    return P_Rt_plus_1_given_u1_t"
   ]
  },
  {
   "cell_type": "code",
   "execution_count": 8,
   "id": "c84252ed-9427-49e9-9dd3-fe5825229565",
   "metadata": {},
   "outputs": [
    {
     "name": "stdout",
     "output_type": "stream",
     "text": [
      "Alpha matrix:\n",
      "[[np.float64(0.225), np.float64(0.15000000000000002)], [np.float64(0.021750000000000005), np.float64(0.12600000000000003)], [np.float64(0.05906250000000002), np.float64(0.016425000000000006)]]\n",
      "Probability of the observation sequence: 0.07548750000000003\n"
     ]
    }
   ],
   "source": [
    "# Example Usage\n",
    "if __name__ == \"__main__\":\n",
    "    # Example parameters\n",
    "    Ro = np.array([0.25, 0.75])  # Initial probabilities\n",
    "    T = np.array([[0.7, 0.3],  # Transition matrix\n",
    "                  [0.4, 0.6]])\n",
    "    E = np.array([[0.9, 0.1],  # Emission matrix\n",
    "                  [0.2, 0.8]])\n",
    "    sequence = [0, 1, 0]  # Sequence of observed symbols (indices)\n",
    "\n",
    "    alpha, prob = forward_algorithm(Ro, T, E, sequence)\n",
    "    print(\"Alpha matrix:\")\n",
    "    print(alpha)\n",
    "    print(\"Probability of the observation sequence:\", prob)"
   ]
  },
  {
   "cell_type": "code",
   "execution_count": null,
   "id": "ab24154f-7e9c-44cc-9968-7984b3d403a0",
   "metadata": {},
   "outputs": [],
   "source": []
  }
 ],
 "metadata": {
  "kernelspec": {
   "display_name": "Python 3 (ipykernel)",
   "language": "python",
   "name": "python3"
  },
  "language_info": {
   "codemirror_mode": {
    "name": "ipython",
    "version": 3
   },
   "file_extension": ".py",
   "mimetype": "text/x-python",
   "name": "python",
   "nbconvert_exporter": "python",
   "pygments_lexer": "ipython3",
   "version": "3.10.12"
  }
 },
 "nbformat": 4,
 "nbformat_minor": 5
}
