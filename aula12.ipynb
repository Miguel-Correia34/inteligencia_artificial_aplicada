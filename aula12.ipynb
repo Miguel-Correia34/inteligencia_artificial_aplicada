{
 "cells": [
  {
   "cell_type": "code",
   "execution_count": 9,
   "id": "de572440-e4ca-4714-b788-fe0dc773a56b",
   "metadata": {},
   "outputs": [],
   "source": [
    "import pandas as pd\n",
    "import numpy as np"
   ]
  },
  {
   "cell_type": "code",
   "execution_count": 10,
   "id": "6f5cdc34-3eb0-46ed-ab58-49a22e524c1e",
   "metadata": {},
   "outputs": [],
   "source": [
    "def count_classes_and_words(filename):\n",
    "    total_ham_emails = 0\n",
    "    total_spam_emails = 0\n",
    "\n",
    "    ham_word_counts = {}\n",
    "    spam_word_counts = {}\n",
    "\n",
    "    with open(filename) as f:\n",
    "        for line in f:\n",
    "            label, words = line.split(\"\\t\")\n",
    "            if label == \"0\":\n",
    "                total_ham_emails +=1\n",
    "\n",
    "                for word in words.split(\", \"):\n",
    "                    word = word.strip()\n",
    "                    ham_word_counts[word] = ham_word_counts.get(word, 0) + 1\n",
    "            else:\n",
    "                total_spam_emails += 1\n",
    "                for word in words.split(\", \"):\n",
    "                    word = word.strip()\n",
    "                    spam_word_counts[word] = spam_word_counts.get(word, 0) + 1\n",
    "        \n",
    "        return total_ham_emails, total_spam_emails, ham_word_counts, spam_word_counts\n",
    "        \n",
    "\n",
    "#df = pd.read_csv(\"subset.csv\", sep=\"\\t\")\n",
    "\n",
    "#print(df.head())"
   ]
  },
  {
   "cell_type": "code",
   "execution_count": 11,
   "id": "6b1daebc-69c2-4637-bf3f-4c8095055227",
   "metadata": {},
   "outputs": [
    {
     "name": "stdout",
     "output_type": "stream",
     "text": [
      "13 %\n",
      "12\n",
      "43\n"
     ]
    }
   ],
   "source": [
    "def group1():\n",
    "    total_ham_emails, total_spam_emails,ham_word_counts, spam_word_counts =  count_classes_and_words(\"subset.csv\")\n",
    "    spam_percentage = total_spam_emails/(total_spam_emails + total_ham_emails)\n",
    "    print(round(spam_percentage* 100),\"%\")\n",
    "    print(ham_word_counts['free'])\n",
    "    print(spam_word_counts['free'])\n",
    "group1()"
   ]
  },
  {
   "cell_type": "code",
   "execution_count": 78,
   "id": "d71b303a-785c-40a9-a9df-2c39f913647a",
   "metadata": {},
   "outputs": [],
   "source": [
    "def to_log_probabilities(total_ham_emails,total_spam_emails,ham_word_counts,spam_word_counts, a):\n",
    "    SMALL = 1e-5\n",
    "    total_words_in_ham = sum(ham_word_counts.values())\n",
    "    total_words_in_spam = sum(spam_word_counts.values())\n",
    "\n",
    "    vocabulary = set(ham_word_counts.keys()) | set(spam_word_counts.keys())\n",
    "    \n",
    "    ham_log_probs = {}\n",
    "    spam_log_probs = {}\n",
    "\n",
    "    for word in vocabulary:\n",
    "        p_w_given_ham = (ham_word_counts.get(word, SMALL)+a)/(total_words_in_ham+a * len(vocabulary))\n",
    "        ham_log_probs[word] = np.log(p_w_given_ham)\n",
    "\n",
    "        p_w_given_spam = (spam_word_counts.get(word, SMALL) + a )/(total_words_in_spam+ a * len(vocabulary)) \n",
    "        spam_log_probs[word] = np.log(p_w_given_spam)\n",
    "\n",
    "    log_ham = np.log(total_ham_emails / (total_spam_emails + total_ham_emails))\n",
    "    log_spam = np.log(total_spam_emails / (total_spam_emails + total_ham_emails))\n",
    "    log_prior= np.array([log_ham, log_spam])\n",
    "\n",
    "    return log_prior, ham_log_probs, spam_log_probs\n",
    "\n",
    "total_ham_emails, total_spam_emails,ham_word_counts, spam_word_counts =  count_classes_and_words(\"subset.csv\")\n",
    "#to_log_probabilities(total_ham_emails, total_spam_emails,ham_word_counts, spam_word_counts)"
   ]
  },
  {
   "cell_type": "code",
   "execution_count": 79,
   "id": "76dee927-f873-4954-a79b-aee87e89d650",
   "metadata": {},
   "outputs": [],
   "source": [
    "def question_1b():\n",
    "    total_ham_emails, tital_spam_emails, ham_word_counts, spam_word_counts =  count_classes_and_words(\"subset.csv\")\n",
    "    log_prior, ham_log_probs, spam_log_probs = to_log_probabilities(total_ham_emails, total_spam_emails,ham_word_counts, spam_word_counts,0)\n",
    "    print()"
   ]
  },
  {
   "cell_type": "code",
   "execution_count": 82,
   "id": "be2cff1b-4c87-474d-8b77-9b9870fe18e9",
   "metadata": {},
   "outputs": [
    {
     "name": "stdout",
     "output_type": "stream",
     "text": [
      "The message is Spam\n"
     ]
    }
   ],
   "source": [
    "def naive_bayes(log_prior, ham_log_probs, spam_log_probs, bag_of_words):\n",
    "    SMALL = 1e-5\n",
    "    log_prob = log_prior.copy()\n",
    "\n",
    "    #update belief\n",
    "    for word in bag_of_words:\n",
    "        log_prob[0] += ham_log_probs.get(word, SMALL)\n",
    "        log_prob[1] += spam_log_probs.get(word, SMALL)\n",
    "    #print(log_prob)\n",
    "    return np.argmax(log_prob)\n",
    "    \n",
    "def group_2():\n",
    "    total_ham_emails, total_spam_emails, ham_word_counts, spam_word_counts =  count_classes_and_words(\"subset.csv\")\n",
    "    log_prior, ham_log_probs, spam_log_probs = to_log_probabilities(total_ham_emails, total_spam_emails,ham_word_counts, spam_word_counts,0)\n",
    "\n",
    "    message = \"Urgent! You have won a free gift.\"\n",
    "\n",
    "    message = message.lower().replace(\"!\", \"\").replace(\"?\", \"\").replace(\".\", \"\").replace(\",\", \"\")\n",
    "    message = message.split()\n",
    "    label = naive_bayes(log_prior, ham_log_probs, spam_log_probs, message)\n",
    "    if label == 0:\n",
    "        print(\"The message is Ham\")\n",
    "    else:\n",
    "        print(\"The message is Spam\")\n",
    "group_2()"
   ]
  },
  {
   "cell_type": "code",
   "execution_count": 83,
   "id": "953d580c-f4f2-40a9-95c4-8137e1d0abc9",
   "metadata": {},
   "outputs": [],
   "source": [
    "cf = pd.read_csv(\"datasets/train.csv\",sep=\"\\t\")\n",
    "#print(cf.head)"
   ]
  },
  {
   "cell_type": "code",
   "execution_count": 95,
   "id": "2531c9f2-b717-4274-8af6-7862e976f95b",
   "metadata": {},
   "outputs": [
    {
     "name": "stdout",
     "output_type": "stream",
     "text": [
      "Accuracy: 0.9917\n"
     ]
    }
   ],
   "source": [
    "def group1_a1():\n",
    "    total_ham, total_spam, ham_counts, spam_counts = count_classes_and_words(\"datasets/train.csv\")\n",
    "    prior_ham_spam, ham_log_probs, spam_log_probs = to_log_probabilities(total_ham, total_spam, ham_counts, spam_counts,0.6)\n",
    "\n",
    "    total = 0\n",
    "    correct = 0\n",
    "\n",
    "    with open(\"datasets/train.csv\") as f:\n",
    "        for line in f:\n",
    "            label, message = line.split(\"\\t\")\n",
    "            words = message.split(\", \")\n",
    "            words[-1] = words[-1].strip()\n",
    "\n",
    "            predicted  = naive_bayes(prior_ham_spam, ham_log_probs, spam_log_probs, words)\n",
    "            if predicted == int(label):\n",
    "                correct += 1\n",
    "            total += 1\n",
    "    acc = correct / total\n",
    "    print(f\"Accuracy: {acc:.4f}\")\n",
    "\n",
    "group1_a1()"
   ]
  },
  {
   "cell_type": "code",
   "execution_count": 103,
   "id": "cbf011c7-4f58-40a7-b3b7-e9a255c0a411",
   "metadata": {},
   "outputs": [
    {
     "name": "stdout",
     "output_type": "stream",
     "text": [
      "Accuracy: 0.9803\n"
     ]
    }
   ],
   "source": [
    "def group1_a2a():\n",
    "    total_ham1, total_spam1, ham_counts1, spam_counts1 = count_classes_and_words(\"datasets/train.csv\")\n",
    "    #total_ham2, total_spam2, ham_counts2, spam_counts2 = count_classes_and_words(\"datasets/test.csv\")\n",
    "    prior_ham_spam1, ham_log_probs1, spam_log_probs1 = to_log_probabilities(total_ham1, total_spam1, ham_counts1, spam_counts1,0)\n",
    "    #prior_ham_spam2, ham_log_probs2, spam_log_probs2 = to_log_probabilities(total_ham2, total_spam2, ham_counts2, spam_counts2,0)\n",
    "\n",
    "    total = 0\n",
    "    correct = 0\n",
    "    \n",
    "    with open(\"datasets/test.csv\") as f:\n",
    "        for line in f:\n",
    "            label, message = line.split(\"\\t\")\n",
    "            words = message.split(\", \")\n",
    "            words[-1] = words[-1].strip()\n",
    "            \n",
    "            predicted  = naive_bayes(prior_ham_spam1, ham_log_probs1, spam_log_probs1, words)\n",
    "            if predicted == int(label):\n",
    "                correct += 1\n",
    "            total += 1\n",
    "    acc = correct / total\n",
    "    print(f\"Accuracy: {acc:.4f}\")\n",
    "\n",
    "group1_a2a()"
   ]
  },
  {
   "cell_type": "markdown",
   "id": "c0429f8d-54a7-42c6-a9d9-b84d2402161c",
   "metadata": {},
   "source": [
    "group1_a2b) I would report the second accuracy because it is the result of testing the model on unseen data."
   ]
  },
  {
   "cell_type": "code",
   "execution_count": 105,
   "id": "c15cb215-0ff4-4b6e-afb2-a5bc78bfbaa9",
   "metadata": {},
   "outputs": [
    {
     "name": "stdout",
     "output_type": "stream",
     "text": [
      "Accuracy: 0.9839\n"
     ]
    }
   ],
   "source": [
    "def group2_a():\n",
    "    total_ham1, total_spam1, ham_counts1, spam_counts1 = count_classes_and_words(\"datasets/train.csv\")\n",
    "    #total_ham2, total_spam2, ham_counts2, spam_counts2 = count_classes_and_words(\"datasets/test.csv\")\n",
    "    prior_ham_spam1, ham_log_probs1, spam_log_probs1 = to_log_probabilities(total_ham1, total_spam1, ham_counts1, spam_counts1,0.2)\n",
    "    #prior_ham_spam2, ham_log_probs2, spam_log_probs2 = to_log_probabilities(total_ham2, total_spam2, ham_counts2, spam_counts2,0)\n",
    "\n",
    "    total = 0\n",
    "    correct = 0\n",
    "    \n",
    "    with open(\"datasets/test.csv\") as f:\n",
    "        for line in f:\n",
    "            label, message = line.split(\"\\t\")\n",
    "            words = message.split(\", \")\n",
    "            words[-1] = words[-1].strip()\n",
    "            \n",
    "            predicted  = naive_bayes(prior_ham_spam1, ham_log_probs1, spam_log_probs1, words)\n",
    "            if predicted == int(label):\n",
    "                correct += 1\n",
    "            total += 1\n",
    "    acc = correct / total\n",
    "    print(f\"Accuracy: {acc:.4f}\")\n",
    "\n",
    "group2_a()"
   ]
  },
  {
   "cell_type": "code",
   "execution_count": 115,
   "id": "d32339a8-0111-4492-b261-7576f703ad63",
   "metadata": {},
   "outputs": [],
   "source": [
    "from sklearn.pipeline import make_pipeline\n",
    "from sklearn.feature_extraction.text import CountVectorizer\n",
    "from sklearn.naive_bayes import MultinomialNB\n",
    "from sklearn.model_selection import train_test_split\n",
    "from sklearn.metrics import accuracy_score"
   ]
  },
  {
   "cell_type": "code",
   "execution_count": 117,
   "id": "a22c37e7-142d-47dc-acfc-15362d411a5d",
   "metadata": {},
   "outputs": [
    {
     "name": "stdout",
     "output_type": "stream",
     "text": [
      "Accuracy: 0.9767\n"
     ]
    }
   ],
   "source": [
    "def group3():\n",
    "    X = []\n",
    "    y= []\n",
    "    with open(\"datasets/dataset.csv\") as f:\n",
    "        for line in f:\n",
    "            label, message = line.split(\"\\t\")\n",
    "            X.append(message)\n",
    "            y.append(int(label))\n",
    "    X_train, X_test,y_train, y_test = train_test_split(X, y, test_size=0.2, random_state=1, stratify=y)\n",
    "    #print(X_train[:5])\n",
    "    #print(y_train[:5])\n",
    "    model = make_pipeline(CountVectorizer(), MultinomialNB(alpha=1))\n",
    "    model.fit(X_train, y_train)\n",
    "    y_pred = model.predict(X_test)\n",
    "    acc = accuracy_score(y_test,y_pred)\n",
    "    print(f\"Accuracy: {acc:.4f}\")\n",
    "group3()"
   ]
  },
  {
   "cell_type": "code",
   "execution_count": null,
   "id": "fd3e6783-c2c9-48d0-974b-c700d9e79841",
   "metadata": {},
   "outputs": [],
   "source": []
  }
 ],
 "metadata": {
  "kernelspec": {
   "display_name": "Python 3 (ipykernel)",
   "language": "python",
   "name": "python3"
  },
  "language_info": {
   "codemirror_mode": {
    "name": "ipython",
    "version": 3
   },
   "file_extension": ".py",
   "mimetype": "text/x-python",
   "name": "python",
   "nbconvert_exporter": "python",
   "pygments_lexer": "ipython3",
   "version": "3.10.12"
  }
 },
 "nbformat": 4,
 "nbformat_minor": 5
}
