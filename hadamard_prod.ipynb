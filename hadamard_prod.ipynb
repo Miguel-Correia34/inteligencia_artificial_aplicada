{
 "cells": [
  {
   "cell_type": "code",
   "execution_count": 1,
   "id": "7aa3d1e5-7133-4734-9ad0-8c123d93f975",
   "metadata": {},
   "outputs": [],
   "source": [
    "import numpy as np"
   ]
  },
  {
   "cell_type": "code",
   "execution_count": 7,
   "id": "108ca16a-28bd-471d-8a81-89da856a7c51",
   "metadata": {},
   "outputs": [],
   "source": [
    "def hadamard_col(arr, i, j):\n",
    "    \n",
    "    col1 = arr[:, i]\n",
    "    col2 = arr[:, j]\n",
    "    \n",
    "    prod = col1 * col2\n",
    "    \n",
    "    col_vector = prod[:, np.newaxis]\n",
    "    return col_vector"
   ]
  },
  {
   "cell_type": "code",
   "execution_count": 8,
   "id": "06d07310-03c2-4739-827f-fcb8e760df02",
   "metadata": {},
   "outputs": [
    {
     "name": "stdout",
     "output_type": "stream",
     "text": [
      "[[ 3]\n",
      " [24]]\n"
     ]
    }
   ],
   "source": [
    "M = np.array([[1, 2, 3],\n",
    "              [4, 5, 6]])\n",
    "v = hadamard_col(M, 0, 2)\n",
    "print(v)"
   ]
  },
  {
   "cell_type": "code",
   "execution_count": null,
   "id": "caf7f31f-81f1-40c6-8244-661edb872ffa",
   "metadata": {},
   "outputs": [],
   "source": []
  },
  {
   "cell_type": "code",
   "execution_count": null,
   "id": "31aeaea3-96a3-4b8b-adbf-6ff5e38d00aa",
   "metadata": {},
   "outputs": [],
   "source": []
  }
 ],
 "metadata": {
  "kernelspec": {
   "display_name": "Python 3 (ipykernel)",
   "language": "python",
   "name": "python3"
  },
  "language_info": {
   "codemirror_mode": {
    "name": "ipython",
    "version": 3
   },
   "file_extension": ".py",
   "mimetype": "text/x-python",
   "name": "python",
   "nbconvert_exporter": "python",
   "pygments_lexer": "ipython3",
   "version": "3.10.12"
  }
 },
 "nbformat": 4,
 "nbformat_minor": 5
}
