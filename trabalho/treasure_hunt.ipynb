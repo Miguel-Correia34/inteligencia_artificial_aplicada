{
 "cells": [
  {
   "cell_type": "code",
   "execution_count": 1,
   "id": "f4e5f431-b360-43b2-89fb-89f266ecc49d",
   "metadata": {},
   "outputs": [],
   "source": [
    "import random\n",
    "import numpy as np"
   ]
  },
  {
   "cell_type": "code",
   "execution_count": 2,
   "id": "ccf4c709-754e-40dd-849e-5e902434f45e",
   "metadata": {},
   "outputs": [],
   "source": [
    "score = 100"
   ]
  },
  {
   "cell_type": "code",
   "execution_count": 3,
   "id": "3bca5d5d-dc07-4a04-9b1b-49616d3eab71",
   "metadata": {},
   "outputs": [
    {
     "data": {
      "text/plain": [
       "([[0.0625, 0.0625, 0.0625, 0.0625],\n",
       "  [0.0625, 0.0625, 0.0625, 0.0625],\n",
       "  [0.0625, 0.0625, 0.0625, 0.0625],\n",
       "  [0.0625, 0.0625, 0.0625, 0.0625]],\n",
       " (2, 1))"
      ]
     },
     "execution_count": 3,
     "metadata": {},
     "output_type": "execute_result"
    }
   ],
   "source": [
    "def init_grid(m,n):\n",
    "    grid = [[1/(m*n) for _ in range(n)]for _ in range(m)]\n",
    "    treasure_row = random.randint(0, m-1)\n",
    "    treasure_col = random.randint(0, n-1)\n",
    "    return grid, (treasure_row, treasure_col)\n",
    "init_grid(4,4)"
   ]
  },
  {
   "cell_type": "code",
   "execution_count": 4,
   "id": "7d5b6538-b7d9-485b-a77e-2b52894f6e73",
   "metadata": {},
   "outputs": [],
   "source": [
    "def manhattan_distance(cell1, cell2):\n",
    "    return abs(cell1.row - cell2.row) + abs(cell1.col - cell2.col)"
   ]
  },
  {
   "cell_type": "code",
   "execution_count": 5,
   "id": "43d3898d-d750-40d2-be54-b04985c3be9c",
   "metadata": {},
   "outputs": [],
   "source": [
    "grid = [[1/16 ,1/16 ,1/16, 1/16 ],[1/16 ,1/16 ,1/16,1/16 ],[1/16 ,1/16 , 1/16, 1/16],[1/16 ,1/16 , 1/16, 1/16]]\n",
    "signal_table={0: {\"++++\": 0.8, \"+++\":0.1, \"++\":0.07, \"+\":0.03 },\n",
    "                1: {\"++++\": 0.08, \"+++\":0.8, \"++\":0.08, \"+\":0.04 },\n",
    "                2:{\"++++\": 0.04, \"+++\":0.08, \"++\":0.8, \"+\":0.08 },\n",
    "                3:{\"++++\": 0.03, \"+++\":0.07, \"++\":0.1, \"+\":0.8 }}"
   ]
  },
  {
   "cell_type": "code",
   "execution_count": 6,
   "id": "bd184cd7-81f7-4449-a2fc-b2cbaa72ad5c",
   "metadata": {},
   "outputs": [
    {
     "name": "stdout",
     "output_type": "stream",
     "text": [
      "('++++', '+++', '++', '+')\n",
      "(0.8, 0.1, 0.07, 0.03)\n"
     ]
    },
    {
     "data": {
      "text/plain": [
       "'++++'"
      ]
     },
     "execution_count": 6,
     "metadata": {},
     "output_type": "execute_result"
    }
   ],
   "source": [
    "def generate_signal(distance):\n",
    "    probs = signal_table[min(distance,3)]\n",
    "    sinais, pesos = zip(*probs.items())\n",
    "    print(sinais)\n",
    "    print(pesos)\n",
    "    return random.choices(sinais, weights= pesos, k=1)[0]\n",
    "\n",
    "generate_signal(0)"
   ]
  },
  {
   "cell_type": "code",
   "execution_count": 7,
   "id": "89b3e7c6-cdc9-44fd-a4db-ceb2f95ce661",
   "metadata": {},
   "outputs": [
    {
     "data": {
      "text/plain": [
       "[[0.0194, 0.1937, 0.0194, 0.0169],\n",
       " [0.1937, 0.0242, 0.1937, 0.0194],\n",
       " [0.0194, 0.1937, 0.0194, 0.0169],\n",
       " [0.0169, 0.0194, 0.0169, 0.0169]]"
      ]
     },
     "execution_count": 7,
     "metadata": {},
     "output_type": "execute_result"
    }
   ],
   "source": [
    "def update_grid_probabilities(signal, cell, grid, signal_table):\n",
    "    prob_total = 0\n",
    "    rows, cols = len(grid), len(grid[0])\n",
    "\n",
    "    for row in range(rows):\n",
    "        for col in range(cols):\n",
    "            distance = abs(row - cell[0]) + abs(col - cell[0])\n",
    "            likelihood = signal_table[min(distance,3)][signal]\n",
    "            prior = grid[row][col]\n",
    "            grid[row][col] = likelihood * prior\n",
    "            prob_total += grid[row][col]\n",
    "    \n",
    "    for row in range(rows):\n",
    "        for col in range(cols):\n",
    "            grid[row][col] /= prob_total\n",
    "            grid[row][col] = round(grid[row][col],4)\n",
    "    \n",
    "    return grid\n",
    "\n",
    "updated_grid= update_grid_probabilities(\"+++\",(1,0),grid, signal_table)\n",
    "#total_probability = sum(sum(row) for row in updated_grid)\n",
    "updated_grid\n",
    "#total_probability\n",
    "#for row in updated_grid:\n",
    "#    print([round(prob,4) for prob in row])"
   ]
  },
  {
   "cell_type": "code",
   "execution_count": null,
   "id": "610de74f-4bfa-4c47-8556-7cfd30768f38",
   "metadata": {},
   "outputs": [
    {
     "name": "stdout",
     "output_type": "stream",
     "text": [
      "Bem vindos à Caça ao Tesouro\n",
      "Introduza o tamanho da \n"
     ]
    }
   ],
   "source": [
    "def main():\n",
    "    print(\"Bem vindos à Caça ao Tesouro\")\n",
    "    print(\"Introduza o tamanho da \")\n",
    "    size = int(input())\n",
    "    grid, treasure_loc = init_grid(size/size, size/size)\n",
    "    score = 100\n",
    "    found = False\n",
    "    while score >0 or found==False:\n",
    "        print(grid)\n",
    "main()"
   ]
  },
  {
   "cell_type": "code",
   "execution_count": null,
   "id": "754ca340-740e-43e4-9ad1-7358665943e0",
   "metadata": {},
   "outputs": [],
   "source": []
  }
 ],
 "metadata": {
  "kernelspec": {
   "display_name": "Python 3 (ipykernel)",
   "language": "python",
   "name": "python3"
  },
  "language_info": {
   "codemirror_mode": {
    "name": "ipython",
    "version": 3
   },
   "file_extension": ".py",
   "mimetype": "text/x-python",
   "name": "python",
   "nbconvert_exporter": "python",
   "pygments_lexer": "ipython3",
   "version": "3.10.12"
  }
 },
 "nbformat": 4,
 "nbformat_minor": 5
}
